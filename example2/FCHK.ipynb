{
 "cells": [
  {
   "cell_type": "code",
   "execution_count": 1,
   "metadata": {
    "collapsed": true
   },
   "outputs": [],
   "source": [
    "import simtk.unit as unit\n",
    "import numpy as np"
   ]
  },
  {
   "cell_type": "code",
   "execution_count": 2,
   "metadata": {
    "collapsed": true
   },
   "outputs": [],
   "source": [
    "def findline(text, parser):\n",
    "    index = []\n",
    "    for n, l in enumerate(text):\n",
    "        if parser in l:\n",
    "            index.append(n)\n",
    "    return index"
   ]
  },
  {
   "cell_type": "code",
   "execution_count": 3,
   "metadata": {
    "collapsed": true
   },
   "outputs": [],
   "source": [
    "with open(\"freq.fchk\", \"r\") as f:\n",
    "    text = f.readlines()"
   ]
  },
  {
   "cell_type": "code",
   "execution_count": 5,
   "metadata": {},
   "outputs": [],
   "source": [
    "energy = float(text[findline(text, \"Total Energy\")[-1]].strip().split()[-1])"
   ]
  },
  {
   "cell_type": "code",
   "execution_count": 83,
   "metadata": {},
   "outputs": [],
   "source": [
    "def readArray(parser, text):\n",
    "    start = findline(text, parser)[0]\n",
    "    num = int(text[start].strip().split()[-1])\n",
    "    array = np.zeros(num)\n",
    "    p = 0\n",
    "    for line in text[start+1:]:\n",
    "        if line.strip()[0].isalpha():\n",
    "            break\n",
    "        for i in line.strip().split():\n",
    "            array[p] = np.float64(i)\n",
    "            p += 1\n",
    "    return array\n",
    "\n",
    "def readHess(text):\n",
    "    natom = text[findline(text, \"Number of atoms\")[0]].strip().split()[-1]\n",
    "    natom = int(natom)\n",
    "    hess = readArray(\"Cartesian Force Constants\", text)\n",
    "    hess_mat = np.zeros((natom*3, natom*3))\n",
    "    pn = 0\n",
    "    for pi in range(natom*3):\n",
    "        for pj in range(pi+1):\n",
    "            hess_mat[pi,pj] = hess[pn]\n",
    "            hess_mat[pj,pi] = hess[pn]\n",
    "            pn += 1\n",
    "    return unit.Quantity(hess_mat * 627.5, unit.kilocalorie_per_mole / unit.bohr / unit.bohr)\n",
    "\n",
    "def readMass(text):\n",
    "    return readArray(\"Real atomic weights\", text)\n",
    "\n",
    "def readMmat(text):\n",
    "    mass = readMass(text)\n",
    "    M = np.zeros((3 * mass.shape[0],))\n",
    "    for i in range(mass.shape[0]):\n",
    "        M[3*i:3*(i+1)] = mass[i]\n",
    "    return unit.Quantity(M, unit.amu)\n",
    "\n",
    "def readXYZ(text):\n",
    "    return unit.Quantity(readArray(\"Current cartesian coordinates\", text).reshape((-1,3)), unit.bohr)"
   ]
  },
  {
   "cell_type": "code",
   "execution_count": 56,
   "metadata": {},
   "outputs": [],
   "source": [
    "hess = readHess(text).value_in_unit(unit.kilocalorie_per_mole / unit.bohr / unit.bohr)\n",
    "M = readMmat(text).value_in_unit(unit.amu)"
   ]
  },
  {
   "cell_type": "code",
   "execution_count": 78,
   "metadata": {},
   "outputs": [],
   "source": [
    "V = np.dot(np.dot(np.diag(1. / np.sqrt(M)), hess),np.diag(1. / np.sqrt(M)))"
   ]
  },
  {
   "cell_type": "code",
   "execution_count": 81,
   "metadata": {},
   "outputs": [
    {
     "data": {
      "text/plain": [
       "3718.1569429463525"
      ]
     },
     "execution_count": 81,
     "metadata": {},
     "output_type": "execute_result"
    }
   ],
   "source": [
    "e,v = np.linalg.eig(V)\n",
    "e = unit.Quantity(e, unit.kilocalorie_per_mole / unit.bohr ** 2 / unit.amu)\n",
    "e = e.value_in_unit(unit.joule / unit.meter ** 2 / unit.kilogram)\n",
    "np.sqrt(np.abs(e)) / 2. / np.pi / 2.99792458e10 * np.sign(e)"
   ]
  },
  {
   "cell_type": "code",
   "execution_count": 84,
   "metadata": {},
   "outputs": [
    {
     "data": {
      "text/plain": [
       "Quantity(value=array([[ -9.14954938,   0.94030883,  -0.98341726],\n",
       "       [ -9.45665633,  -1.4578897 ,  -2.57395628],\n",
       "       [ -6.91369723,  -2.28652327,  -3.68952398],\n",
       "       [ -5.04835234,  -2.74985199,  -1.54116993],\n",
       "       [ -4.68265632,  -0.32349277,   0.05213565],\n",
       "       [ -7.21712866,   0.56263005,   1.13660224],\n",
       "       [ -7.11425008,  -3.99419318,  -4.84162575],\n",
       "       [-10.2173486 ,  -2.98471282,  -1.3928869 ],\n",
       "       [-10.8128202 ,  -1.14403642,  -4.10365368],\n",
       "       [ -8.50987897,   2.48992394,  -2.20822435],\n",
       "       [-10.9731937 ,   1.50652558,  -0.18757233],\n",
       "       [ -5.77936644,  -4.24381278,  -0.31089207],\n",
       "       [ -4.01776752,   1.14567292,  -1.25342889],\n",
       "       [ -7.90918228,  -0.8311488 ,   2.50244149],\n",
       "       [ -6.89007754,   2.34298828,   2.14396611],\n",
       "       [ -6.22442151,  -0.76419202,  -4.92049158],\n",
       "       [ -2.52639376,  -3.61724573,  -2.37856049],\n",
       "       [ -1.24235131,  -2.34038424,  -4.19836487],\n",
       "       [ -1.20595141,  -5.15622736,  -0.80386871],\n",
       "       [  1.31165135,  -2.50892136,  -4.45934549],\n",
       "       [ -2.36100493,  -1.12690038,  -5.40625513],\n",
       "       [  1.35167197,  -5.40190309,  -0.92933141],\n",
       "       [ -2.30600634,  -6.10929184,   0.63893719],\n",
       "       [  2.75708964,  -3.91699598,  -2.67194614],\n",
       "       [  2.22389207,  -1.44079523,  -5.9449707 ],\n",
       "       [  2.27268102,  -6.5759238 ,   0.46537719],\n",
       "       [  5.26864528,  -3.85664758,  -2.63098444],\n",
       "       [  6.67216566,  -4.8559083 ,  -0.44919924],\n",
       "       [  6.41640446,  -6.90076205,  -0.2896988 ],\n",
       "       [  5.96909494,  -3.90480914,   1.25802092],\n",
       "       [  6.7160829 ,  -1.86509922,  -3.93090248],\n",
       "       [  7.20305776,  -2.48570418,  -5.84821861],\n",
       "       [  5.5920171 ,  -0.13510219,  -3.990512  ],\n",
       "       [ -2.62820654,  -0.60008442,   1.84938048],\n",
       "       [ -2.69854404,  -2.30590808,   4.40743283],\n",
       "       [ -4.97939246,  -3.87388944,   4.31338305],\n",
       "       [ -0.26094661,  -3.58585171,   4.69559338],\n",
       "       [ -1.13272452,   5.13415158,  -0.1213412 ],\n",
       "       [ -0.13347892,   3.93848784,  -2.26204376],\n",
       "       [ -1.41031773,   4.06600089,  -4.56307823],\n",
       "       [ -3.72111264,   5.3209699 ,  -4.75673925],\n",
       "       [ -4.74293858,   6.4782363 ,  -2.62303058],\n",
       "       [ -3.44583057,   6.38941728,  -0.33048476],\n",
       "       [  1.60113283,   2.84459719,  -2.05459529],\n",
       "       [ -0.59185089,   3.17644822,  -6.22708791],\n",
       "       [ -4.71134047,   5.40800313,  -6.55306189],\n",
       "       [ -6.54573731,   7.45352206,  -2.74378975],\n",
       "       [ -4.25144349,   7.29771603,   1.32933919],\n",
       "       [  1.07436033,   2.60013088,   3.0632385 ],\n",
       "       [ -1.06290292,   0.63142175,   1.85307489],\n",
       "       [  3.94457654,   1.34909438,   2.26019749],\n",
       "       [  3.74612884,   0.33354422,   0.10089248],\n",
       "       [  4.1770771 ,  -0.25732968,   4.33033956],\n",
       "       [  2.91360432,  -1.57936696,   4.09865536],\n",
       "       [  5.81847054,   3.52546929,   2.62334427],\n",
       "       [  5.21647372,   4.72755999,   4.19892422],\n",
       "       [  7.60203186,   2.64678066,   3.22134433],\n",
       "       [  0.24746153,   5.00979248,   2.40266017],\n",
       "       [ -1.0641577 ,   5.69628841,   3.8727008 ],\n",
       "       [  1.8215297 ,   6.37357192,   2.38024235],\n",
       "       [ -2.87922642,  -0.07683626,   6.91957995],\n",
       "       [ -1.25504649,   1.17838597,   6.65798138],\n",
       "       [ -4.66352851,   0.94454748,   6.76260984],\n",
       "       [ -2.76135664,  -1.10368132,   8.70342472],\n",
       "       [  6.28646311,   5.0674707 ,   0.23203569],\n",
       "       [  6.98006819,   3.79904495,  -1.25143145],\n",
       "       [  4.50856719,   5.84110568,  -0.49739293],\n",
       "       [  8.16607921,   7.21001384,   0.67682242],\n",
       "       [  8.5302899 ,   8.28160195,  -1.05392861],\n",
       "       [  7.45444236,   8.53217963,   2.1026    ],\n",
       "       [  9.97564883,   6.47468928,   1.3641007 ],\n",
       "       [  9.39305571,  -4.09611745,  -1.01263998],\n",
       "       [ 10.5395204 ,  -4.02455541,   0.70071612],\n",
       "       [ 10.257647  ,  -5.44072752,  -2.32871518],\n",
       "       [  9.04875328,  -1.51128391,  -2.25894082],\n",
       "       [  8.57884453,  -0.11481031,  -0.8096456 ],\n",
       "       [ 10.697031  ,  -0.87616585,  -3.32605027]]), unit=bohr)"
      ]
     },
     "execution_count": 84,
     "metadata": {},
     "output_type": "execute_result"
    }
   ],
   "source": [
    "readXYZ(text)"
   ]
  },
  {
   "cell_type": "code",
   "execution_count": 86,
   "metadata": {},
   "outputs": [
    {
     "data": {
      "text/plain": [
       "'123'"
      ]
     },
     "execution_count": 86,
     "metadata": {},
     "output_type": "execute_result"
    }
   ],
   "source": [
    "\"123\".encode(\"utf-8\").decode(\"utf-8\")"
   ]
  },
  {
   "cell_type": "code",
   "execution_count": 105,
   "metadata": {},
   "outputs": [
    {
     "data": {
      "text/plain": [
       "999"
      ]
     },
     "execution_count": 105,
     "metadata": {},
     "output_type": "execute_result"
    }
   ],
   "source": [
    "np.random.choice([999, 1000,1500])"
   ]
  },
  {
   "cell_type": "code",
   "execution_count": 106,
   "metadata": {
    "collapsed": true
   },
   "outputs": [],
   "source": []
  },
  {
   "cell_type": "code",
   "execution_count": 1,
   "metadata": {},
   "outputs": [
    {
     "ename": "NameError",
     "evalue": "name 'json' is not defined",
     "output_type": "error",
     "traceback": [
      "\u001b[1;31m---------------------------------------------------------------------------\u001b[0m",
      "\u001b[1;31mNameError\u001b[0m                                 Traceback (most recent call last)",
      "\u001b[1;32m<ipython-input-1-ce652dbc21da>\u001b[0m in \u001b[0;36m<module>\u001b[1;34m()\u001b[0m\n\u001b[1;32m----> 1\u001b[1;33m \u001b[0mjson\u001b[0m\u001b[1;33m.\u001b[0m\u001b[0mdumps\u001b[0m\u001b[1;33m(\u001b[0m\u001b[1;33m[\u001b[0m\u001b[1;36m0\u001b[0m\u001b[1;33m,\u001b[0m\u001b[1;36m1\u001b[0m\u001b[1;33m,\u001b[0m\u001b[1;33m{\u001b[0m\u001b[1;36m1\u001b[0m\u001b[1;33m:\u001b[0m\u001b[1;36m2\u001b[0m\u001b[1;33m}\u001b[0m\u001b[1;33m]\u001b[0m\u001b[1;33m)\u001b[0m\u001b[1;33m\u001b[0m\u001b[0m\n\u001b[0m",
      "\u001b[1;31mNameError\u001b[0m: name 'json' is not defined"
     ]
    }
   ],
   "source": [
    "json.dumps([0,1,{1:2}])"
   ]
  },
  {
   "cell_type": "code",
   "execution_count": 1,
   "metadata": {
    "collapsed": true
   },
   "outputs": [],
   "source": [
    "import multifit\n",
    "import json\n",
    "import numpy as np"
   ]
  },
  {
   "cell_type": "code",
   "execution_count": 2,
   "metadata": {},
   "outputs": [],
   "source": [
    "TEMPFILE = \"conf.temp\"\n",
    "VAR = np.array([ 1.00000000e+00,  1.00000000e+00,  1.00000000e+00,  0.00000000e+00,\n",
    "                 0.00000000e+00,  0.00000000e+00,  0.00000000e+00,  0.00000000e+00,\n",
    "                 0.00000000e+00,  0.00000000e+00,  0.00000000e+00,  0.00000000e+00,\n",
    "                 0.00000000e+00,  0.00000000e+00,  0.00000000e+00])"
   ]
  },
  {
   "cell_type": "code",
   "execution_count": 3,
   "metadata": {},
   "outputs": [],
   "source": [
    "from fit import *\n",
    "HESSFILE = \"freq.fchk\"\n",
    "xyz, hess = getCHKHess(HESSFILE)\n",
    "mass = getCHKMass(HESSFILE)"
   ]
  },
  {
   "cell_type": "code",
   "execution_count": 4,
   "metadata": {},
   "outputs": [],
   "source": [
    "with open(TEMPFILE, \"r\") as f:\n",
    "    template = Template(\"\".join(f))"
   ]
  },
  {
   "cell_type": "code",
   "execution_count": 5,
   "metadata": {},
   "outputs": [],
   "source": [
    "conf = json.loads(template.render(var=VAR))"
   ]
  },
  {
   "cell_type": "code",
   "execution_count": 6,
   "metadata": {
    "collapsed": true
   },
   "outputs": [],
   "source": [
    "score = multifit.multigenHessScore(xyz, hess, mass, template, [9090, 9091, 9092, 9093, 9094])"
   ]
  },
  {
   "cell_type": "code",
   "execution_count": null,
   "metadata": {},
   "outputs": [
    {
     "name": "stdout",
     "output_type": "stream",
     "text": [
      "9.08 s ± 217 ms per loop (mean ± std. dev. of 7 runs, 3 loops each)\n"
     ]
    }
   ],
   "source": [
    "score = multifit.multigenHessScore(xyz, hess, mass, template, [9090, 9091, 9092, 9093, 9094])\n",
    "%timeit -n3 score(VAR)"
   ]
  },
  {
   "cell_type": "code",
   "execution_count": null,
   "metadata": {},
   "outputs": [],
   "source": [
    "score = multifit.multigenHessScore(xyz, hess, mass, template, [9090, 9091, 9092, 9093])\n",
    "%timeit -n3 score(VAR)"
   ]
  },
  {
   "cell_type": "code",
   "execution_count": null,
   "metadata": {},
   "outputs": [],
   "source": [
    "score = multifit.multigenHessScore(xyz, hess, mass, template, [9090, 9091, 9092])\n",
    "%timeit -n3 score(VAR)"
   ]
  },
  {
   "cell_type": "code",
   "execution_count": null,
   "metadata": {},
   "outputs": [],
   "source": [
    "score = multifit.multigenHessScore(xyz, hess, mass, template, [9090, 9091])\n",
    "%timeit -n3 score(VAR)"
   ]
  },
  {
   "cell_type": "code",
   "execution_count": null,
   "metadata": {
    "collapsed": true
   },
   "outputs": [],
   "source": [
    "score = multifit.multigenHessScore(xyz, hess, mass, template, [9090])\n",
    "%timeit -n3 score(VAR)"
   ]
  },
  {
   "cell_type": "code",
   "execution_count": 15,
   "metadata": {
    "collapsed": true
   },
   "outputs": [],
   "source": [
    "import matplotlib.pyplot as plt\n",
    "%matplotlib inline"
   ]
  },
  {
   "cell_type": "code",
   "execution_count": 16,
   "metadata": {},
   "outputs": [
    {
     "data": {
      "text/plain": [
       "[<matplotlib.lines.Line2D at 0x1ae32933e48>]"
      ]
     },
     "execution_count": 16,
     "metadata": {},
     "output_type": "execute_result"
    },
    {
     "data": {
      "image/png": "[encoded data removed]",
      "text/plain": [
       "<matplotlib.figure.Figure at 0x1ae325bb4e0>"
      ]
     },
     "metadata": {},
     "output_type": "display_data"
    }
   ],
   "source": [
    "plt.plot([5,4,3,2], [9.66,11.1,14.1,21.2])"
   ]
  },
  {
   "cell_type": "code",
   "execution_count": null,
   "metadata": {
    "collapsed": true
   },
   "outputs": [],
   "source": []
  }
 ],
 "metadata": {
  "kernelspec": {
   "display_name": "Python 3",
   "language": "python",
   "name": "python3"
  },
  "language_info": {
   "codemirror_mode": {
    "name": "ipython",
    "version": 3
   },
   "file_extension": ".py",
   "mimetype": "text/x-python",
   "name": "python",
   "nbconvert_exporter": "python",
   "pygments_lexer": "ipython3",
   "version": "3.6.3"
  }
 },
 "nbformat": 4,
 "nbformat_minor": 2
}
