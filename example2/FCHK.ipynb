{
 "cells": [
  {
   "cell_type": "code",
   "execution_count": 2,
   "metadata": {},
   "outputs": [
    {
     "name": "stdout",
     "output_type": "stream",
     "text": [
      "The history saving thread hit an unexpected error (This operation would block forever\n",
      "\tHub: <Hub '' at 0x1d407931b70 default pending=0 ref=0 thread_ident=0x4238>\n",
      "\tHandles:\n",
      "[HandleState(handle=<cdata 'struct uv_handle_s *' 0x000001D4085ABFF8>, type=b'check', watcher=<loop at 0x1d40788e588 default pending=0 ref=0>, ref=0, active=1, closing=0),\n",
      " HandleState(handle=<cdata 'struct uv_handle_s *' 0x000001D407F44F48>, type=b'timer', watcher=<loop at 0x1d40788e588 default pending=0 ref=0>, ref=0, active=1, closing=0),\n",
      " HandleState(handle=<cdata 'struct uv_handle_s *' 0x000001D4085AC208>, type=b'prepare', watcher=<loop at 0x1d40788e588 default pending=0 ref=0>, ref=0, active=1, closing=0),\n",
      " HandleState(handle=<cdata 'struct uv_handle_s *' 0x000001D4085AC838>, type=b'check', watcher=<loop at 0x1d40788e588 default pending=0 ref=0>, ref=1, active=0, closing=0)]).History will not be written to the database.\n"
     ]
    },
    {
     "name": "stderr",
     "output_type": "stream",
     "text": [
      "C:\\Users\\xinyan\\Miniconda3\\lib\\site-packages\\gevent\\hub.py:154: UserWarning: libuv only supports millisecond timer resolution; all times less will be set to 1 ms\n",
      "  with loop.timer(seconds, ref=ref) as t:\n"
     ]
    }
   ],
   "source": [
    "from gevent import monkey\n",
    "monkey.patch_all()\n",
    "import gevent\n",
    "from gevent import pool\n",
    "import json\n",
    "import logging\n",
    "import socket\n",
    "import numpy as np\n",
    "import simtk.unit as unit\n",
    "from jinja2 import Template\n",
    "import matplotlib.pyplot as plt\n",
    "import evb"
   ]
  },
  {
   "cell_type": "code",
   "execution_count": 3,
   "metadata": {},
   "outputs": [
    {
     "name": "stderr",
     "output_type": "stream",
     "text": [
      "C:\\Users\\xinyan\\Miniconda3\\lib\\site-packages\\gevent\\hub.py:154: UserWarning: libuv only supports millisecond timer resolution; all times less will be set to 1 ms\n",
      "  with loop.timer(seconds, ref=ref) as t:\n"
     ]
    }
   ],
   "source": [
    "class EVBClient(object):\n",
    "    \"\"\"\n",
    "    The client of EVBHalmitonian.\n",
    "    Have similar interfaces with evb.EVBHalmitonian.\n",
    "    Support coroutine.\n",
    "    \"\"\"\n",
    "\n",
    "    def __init__(self, port_list=[]):\n",
    "        self.port_list = port_list\n",
    "        self.pi = 0\n",
    "\n",
    "    def initialize(self, conf):\n",
    "        for pt in self.port_list:\n",
    "            s = socket.socket(socket.AF_INET, socket.SOCK_STREAM)\n",
    "            s.connect((\"127.0.0.1\", pt))\n",
    "            data = \"INIT\" + json.dumps(conf)\n",
    "            s.send(data.encode(\"utf-8\"))\n",
    "            ret = s.recv(1024).decode(\"utf-8\")\n",
    "            if ret == \"FINISH\":\n",
    "                ans = 0\n",
    "            else:\n",
    "                ans = 1\n",
    "                break\n",
    "            s.close()\n",
    "        return ans\n",
    "\n",
    "    def calcEnergy(self, xyz):\n",
    "        xyz_no_unit = xyz.value_in_unit(unit.angstrom)\n",
    "        s = socket.socket(socket.AF_INET, socket.SOCK_STREAM)\n",
    "        pt = self.port_list[self.pi % len(self.port_list)]\n",
    "        self.pi += 1\n",
    "        s.connect((\"127.0.0.1\", pt))\n",
    "        data = \"ENER\" + \" \".join(\"%16.8f\" % i for i in xyz_no_unit.ravel())\n",
    "        s.send(data.encode(\"utf-8\"))\n",
    "        ret = s.recv(1024).decode(\"utf-8\")\n",
    "        if ret == \"ERROR\":\n",
    "            ans = 1\n",
    "        else:\n",
    "            ans = 0\n",
    "        s.close()\n",
    "        return ans, unit.Quantity(float(ret), unit.kilojoule_per_mole)\n",
    "\n",
    "    def calcEnergyGrad(self, xyz):\n",
    "        xyz_no_unit = xyz.value_in_unit(unit.angstrom)\n",
    "        s = socket.socket(socket.AF_INET, socket.SOCK_STREAM)\n",
    "        pt = self.port_list[self.pi % len(self.port_list)]\n",
    "        self.pi += 1\n",
    "        s.connect((\"127.0.0.1\", pt))\n",
    "        data = \"GRAD\" + \" \".join(\"%16.8f\" % i for i in xyz_no_unit.ravel())\n",
    "        s.send(data.encode(\"utf-8\"))\n",
    "        buff = []\n",
    "        while True:\n",
    "            d = s.recv(1024)\n",
    "            buff.append(d)\n",
    "            if len(d) < 1024:\n",
    "                break\n",
    "        ret = b\"\".join(buff).decode(\"utf-8\")\n",
    "        if ret == \"ERROR\":\n",
    "            ans = 1\n",
    "        else:\n",
    "            ans = 0\n",
    "        s.close()\n",
    "        ret = np.array([float(i) for i in ret.strip().split()])\n",
    "        return ans, unit.Quantity(ret[0], unit.kilojoule_per_mole), unit.Quantity(ret[1:].reshape((-1, 3)), unit.kilojoule_per_mole / unit.angstrom)\n"
   ]
  },
  {
   "cell_type": "code",
   "execution_count": 15,
   "metadata": {},
   "outputs": [
    {
     "name": "stderr",
     "output_type": "stream",
     "text": [
      "C:\\Users\\xinyan\\Miniconda3\\lib\\site-packages\\gevent\\hub.py:154: UserWarning: libuv only supports millisecond timer resolution; all times less will be set to 1 ms\n",
      "  with loop.timer(seconds, ref=ref) as t:\n"
     ]
    }
   ],
   "source": [
    "TEMPFILE = \"conf.temp\"\n",
    "var = np.array([ 1.00000000e+00,  1.00000000e+00,  1.00000000e+00,  0.00000000e+00,\n",
    "                 0.00000000e+00,  0.00000000e+00,  0.00000000e+00,  0.00000000e+00,\n",
    "                 0.00000000e+00,  0.00000000e+00,  0.00000000e+00,  0.00000000e+00,\n",
    "                 0.00000000e+00,  0.00000000e+00,  0.00000000e+00])\n",
    "from fit import *\n",
    "HESSFILE = \"freq.fchk\"\n",
    "xyz, hess = getCHKHess(HESSFILE)\n",
    "mass = getCHKMass(HESSFILE)\n",
    "\n",
    "with open(TEMPFILE, \"r\") as f:\n",
    "    template = Template(\"\".join(f))\n",
    "\n",
    "conf = json.loads(template.render(var=var))"
   ]
  },
  {
   "cell_type": "code",
   "execution_count": 17,
   "metadata": {},
   "outputs": [
    {
     "name": "stdout",
     "output_type": "stream",
     "text": [
      "4.689283778614833 4.7779019029638725\n"
     ]
    },
    {
     "name": "stderr",
     "output_type": "stream",
     "text": [
      "C:\\Users\\xinyan\\Miniconda3\\lib\\site-packages\\gevent\\hub.py:154: UserWarning: libuv only supports millisecond timer resolution; all times less will be set to 1 ms\n",
      "  with loop.timer(seconds, ref=ref) as t:\n"
     ]
    }
   ],
   "source": [
    "mass_mat = np.diag(1. / np.sqrt(mass.value_in_unit(unit.amu)))\n",
    "hess_v = hess.value_in_unit(unit.kilocalorie_per_mole / unit.angstrom ** 2)\n",
    "theta = np.dot(mass_mat, np.dot(hess_v, mass_mat))\n",
    "qe, qv = np.linalg.eig(theta)\n",
    "qvI = np.linalg.inv(qv)\n",
    "theta_p = np.dot(qvI, np.dot(theta, qv))\n",
    "dx = 0.00001\n",
    "\n",
    "# gen halmitonian\n",
    "client = EVBClient([5000,5001,5002,5003])\n",
    "ret = client.initialize(conf)\n",
    "# calc hess (unit in kJ / mol / A^2)\n",
    "oxyz = xyz.value_in_unit(unit.angstrom).ravel()\n",
    "dxyz = np.eye(oxyz.shape[0])\n",
    "calc_hess = np.zeros(dxyz.shape)\n",
    "\n",
    "def func(gi, hmat):\n",
    "    txyz = unit.Quantity(value=(oxyz + dxyz[:, gi] * dx).reshape((-1, 3)), unit=unit.angstrom)\n",
    "    _, tep, tgp = client.calcEnergyGrad(txyz)\n",
    "    tgp = tgp.value_in_unit(unit.kilocalorie_per_mole / unit.angstrom).ravel()\n",
    "# parallel\n",
    "    txyz = unit.Quantity(value=(oxyz - dxyz[:, gi] * dx).reshape((-1, 3)), unit=unit.angstrom)\n",
    "    _, ten, tgn = client.calcEnergyGrad(txyz)\n",
    "    tgn= tgn.value_in_unit(unit.kilocalorie_per_mole / unit.angstrom).ravel()\n",
    "    hmat[:, gi] = (tgp - tgn) / 2.0 / dx\n",
    "\n",
    "#for gi in range(dxyz.shape[0]):\n",
    "#    func(gi, calc_hess)\n",
    "\n",
    "#for gi in range(dxyz.shape[0]):\n",
    "#    pl.spawn(func(gi))\n",
    "#pl.join()\n",
    "\n",
    "gevent.joinall([gevent.spawn(func, gi, calc_hess) for gi in range(dxyz.shape[0])])\n",
    "\n",
    "calc_theta = np.dot(mass_mat, np.dot(calc_hess, mass_mat))\n",
    "# change basis\n",
    "calc_theta_p = np.dot(qvI, np.dot(calc_theta, qv))\n",
    "\n",
    "vib_qm, vib_mm = np.diag(theta_p), np.diag(calc_theta_p)\n",
    "vib_qm = unit.Quantity(\n",
    "    vib_qm, unit.kilocalorie_per_mole / unit.angstrom ** 2 / unit.amu)\n",
    "vib_mm = unit.Quantity(\n",
    "    vib_mm, unit.kilocalorie_per_mole / unit.angstrom ** 2 / unit.amu)\n",
    "vib_qm = vib_qm.value_in_unit(\n",
    "    unit.joule / unit.meter ** 2 / unit.kilogram)\n",
    "vib_mm = vib_mm.value_in_unit(\n",
    "    unit.joule / unit.meter ** 2 / unit.kilogram)\n",
    "vib_qm = np.sqrt(np.abs(vib_qm)) / 2. / np.pi / \\\n",
    "    2.99792458e10 * np.sign(vib_qm)\n",
    "vib_mm = np.sqrt(np.abs(vib_mm)) / 2. / np.pi / \\\n",
    "    2.99792458e10 * np.sign(vib_mm)\n",
    "\n",
    "var = (calc_theta_p - theta_p) ** 2\n",
    "var_diag = (((vib_qm - vib_mm) / vib_qm) ** 2).sum() / vib_mm.shape[0]\n",
    "var_offdiag = (var - np.diag(np.diag(var))).sum() / \\\n",
    "    (var.shape[0] ** 2 - var.shape[0])\n",
    "print(var_diag, var_offdiag)"
   ]
  },
  {
   "cell_type": "code",
   "execution_count": 35,
   "metadata": {},
   "outputs": [
    {
     "data": {
      "text/plain": [
       "1083.2245528600263"
      ]
     },
     "execution_count": 35,
     "metadata": {},
     "output_type": "execute_result"
    },
    {
     "name": "stderr",
     "output_type": "stream",
     "text": [
      "C:\\Users\\xinyan\\Miniconda3\\lib\\site-packages\\gevent\\hub.py:154: UserWarning: libuv only supports millisecond timer resolution; all times less will be set to 1 ms\n",
      "  with loop.timer(seconds, ref=ref) as t:\n"
     ]
    }
   ],
   "source": [
    "(((vib_qm - vib_mm) / vib_qm) ** 2).sum()"
   ]
  },
  {
   "cell_type": "code",
   "execution_count": 38,
   "metadata": {},
   "outputs": [
    {
     "data": {
      "text/plain": [
       "array([1.04981104e+00, 9.94184451e-01, 9.48697596e-01, 9.79681210e-01,\n",
       "       9.30773209e-01, 1.13216199e+00, 9.24137880e-01, 1.00851393e+00,\n",
       "       9.12443104e-01, 9.03105480e-01, 9.91557687e-01, 9.04940584e-01,\n",
       "       8.78062388e-01, 9.25216343e-01, 9.27371400e-01, 9.27766687e-01,\n",
       "       9.26632468e-01, 9.45754497e-01, 9.38294813e-01, 9.68330844e-01,\n",
       "       9.11380864e-01, 9.52666505e-01, 9.25609133e-01, 9.41924194e-01,\n",
       "       9.02911447e-01, 9.20689894e-01, 9.12300744e-01, 9.41684856e-01,\n",
       "       8.46470329e-01, 9.38582283e-01, 8.70348270e-01, 8.62369333e-01,\n",
       "       8.26320660e-01, 8.59488133e-01, 8.58698884e-01, 8.57257180e-01,\n",
       "       8.24417913e-01, 8.11402794e-01, 8.46278044e-01, 8.82385505e-01,\n",
       "       8.24708643e-01, 7.34295375e-01, 4.20194422e-01, 3.48217518e-01,\n",
       "       3.71688363e-01, 5.56012359e-01, 6.36341496e-01, 6.43997520e-01,\n",
       "       5.82896668e-01, 3.69194780e-01, 4.15198011e-01, 4.41889189e-01,\n",
       "       4.62027840e-01, 3.41044253e-01, 3.59501061e-01, 4.14453585e-01,\n",
       "       3.58083448e-01, 4.18490961e-01, 3.69582730e-01, 3.81216265e-01,\n",
       "       3.32725408e-01, 3.17697847e-01, 3.10357490e-01, 2.36753021e-01,\n",
       "       2.63331834e-01, 2.45983793e-01, 2.40445750e-01, 2.73571649e-01,\n",
       "       4.30630920e-01, 3.95142748e-01, 3.65358682e-01, 3.01623629e-01,\n",
       "       3.25795832e-01, 2.55904701e-01, 2.38438007e-01, 2.27536745e-01,\n",
       "       2.07758195e-01, 1.76420324e-01, 1.95951291e-01, 1.66623389e-01,\n",
       "       1.13300463e-01, 2.18123620e-01, 1.69935255e-01, 7.51405830e-02,\n",
       "       1.23183154e-01, 8.89049884e-02, 1.57951307e-01, 1.16182073e-01,\n",
       "       8.19841700e-02, 1.41081548e-01, 9.47068875e-02, 8.13237890e-02,\n",
       "       6.41806207e-02, 4.45073696e-02, 3.91206879e-02, 4.90227602e-02,\n",
       "       9.51877779e-03, 4.74740511e-02, 5.78250733e-02, 4.29487335e-02,\n",
       "       2.54634124e-02, 3.34826793e-02, 2.89812792e-02, 5.84942197e-02,\n",
       "       2.47762431e-03, 5.87843567e-02, 4.95301329e-02, 2.39385346e-02,\n",
       "       6.59687259e-03, 6.42666430e-03, 6.26374184e-03, 1.11975234e-02,\n",
       "       2.18263823e-03, 4.22490540e-03, 1.07532873e-02, 2.45438439e-04,\n",
       "       1.34738922e-02, 1.68096308e-01, 1.73941396e-01, 1.21943496e-02,\n",
       "       1.76706588e-03, 7.59516830e-03, 9.92316026e-04, 7.49358789e-02,\n",
       "       5.33307951e-03, 7.93294310e-03, 5.13777559e-02, 9.75235101e-01,\n",
       "       6.43258788e-01, 8.06773054e-01, 5.93242839e-01, 6.46828741e-01,\n",
       "       2.99192916e-01, 7.60644307e-01, 4.74425711e-01, 3.43839665e-01,\n",
       "       3.13604916e-01, 2.24317527e-01, 1.51836277e-01, 2.22105046e-01,\n",
       "       1.26680042e+00, 1.19995990e+00, 4.08329416e-01, 1.56350894e+00,\n",
       "       1.43108093e+00, 9.11806272e-02, 1.63814342e-01, 2.62979542e-01,\n",
       "       2.64884490e-01, 2.31962947e-01, 2.46004966e-01, 5.43714480e-01,\n",
       "       2.46840060e+00, 1.29021005e-01, 1.46233074e-01, 2.23221753e+00,\n",
       "       4.03171038e+00, 2.94513190e+00, 3.23384288e+00, 3.41719133e+00,\n",
       "       2.68841080e-01, 1.68883377e-01, 1.13280845e-01, 2.30083133e-01,\n",
       "       1.95929627e-01, 2.10879327e-01, 2.19773804e-01, 3.38088878e-01,\n",
       "       2.52714435e-01, 4.46575982e-01, 4.83560617e+00, 4.58424880e+00,\n",
       "       3.37145243e-01, 4.16046995e-01, 3.27157766e-01, 5.16635461e-01,\n",
       "       3.24670260e-01, 1.06605064e+01, 5.61659312e+00, 5.84906168e+00,\n",
       "       8.73141962e+00, 5.81728085e+00, 8.56612189e+00, 7.95797553e+00,\n",
       "       7.86183550e+00, 7.07857224e+00, 1.45150016e+01, 1.52881202e+01,\n",
       "       1.64314080e+01, 2.11124150e+01, 6.25962815e+01, 8.53503391e+01,\n",
       "       3.52500473e+02, 9.07985722e+01, 1.01048845e+02, 1.10599699e+02,\n",
       "       1.18518558e+02, 3.34268052e+02, 3.06307360e+02, 2.61238428e+02,\n",
       "       2.22909200e+02, 2.03907372e+02, 1.77638359e+02, 1.58998427e+02,\n",
       "       1.46971729e+02, 1.00214848e+02, 1.42055178e+02, 3.93225159e+02,\n",
       "       4.46225346e+02, 5.53523888e+02, 5.29026437e+02, 7.21418331e+02,\n",
       "       6.21841752e+02, 1.04022926e+03, 1.19476612e+03, 1.30342587e+03,\n",
       "       1.77593560e+03, 1.98571576e+03, 1.57555919e+03, 2.83184832e+03,\n",
       "       4.77070124e+03, 6.96718458e+03, 1.19281127e+04, 9.42958356e+03,\n",
       "       3.13747259e+03, 4.75109036e+05, 1.02291481e+06, 1.34596330e+06,\n",
       "       3.77912981e+10, 2.19958903e+11, 7.61617954e+10])"
      ]
     },
     "execution_count": 38,
     "metadata": {},
     "output_type": "execute_result"
    },
    {
     "name": "stderr",
     "output_type": "stream",
     "text": [
      "C:\\Users\\xinyan\\Miniconda3\\lib\\site-packages\\gevent\\hub.py:154: UserWarning: libuv only supports millisecond timer resolution; all times less will be set to 1 ms\n",
      "  with loop.timer(seconds, ref=ref) as t:\n"
     ]
    }
   ],
   "source": [
    "((sorted(vib_qm) - vib_mm) / vib_qm) ** 2"
   ]
  },
  {
   "cell_type": "code",
   "execution_count": 44,
   "metadata": {},
   "outputs": [
    {
     "data": {
      "text/plain": [
       "array([ 3.67742059e+03,  3.28437539e+03,  3.20328509e+03,  3.24420288e+03,\n",
       "        3.14831093e+03,  3.07618200e+03,  3.11108671e+03,  3.26178426e+03,\n",
       "        3.10621826e+03,  3.07897667e+03,  3.23145501e+03,  3.09568347e+03,\n",
       "        3.04170249e+03,  3.13030991e+03,  3.12847182e+03,  2.96657162e+03,\n",
       "        3.01192348e+03,  3.16417841e+03,  3.14402276e+03,  3.21750442e+03,\n",
       "        3.11871554e+03,  3.20169933e+03,  3.14821136e+03,  3.17788275e+03,\n",
       "        3.13966860e+03,  3.14481812e+03,  3.15488557e+03,  3.21607035e+03,\n",
       "        3.06812627e+03,  3.21922113e+03,  3.09002058e+03,  3.09513022e+03,\n",
       "        3.05095811e+03,  3.11198231e+03,  3.12727158e+03,  3.11383999e+03,\n",
       "        3.06827563e+03,  3.05405748e+03,  3.11332375e+03,  3.18387300e+03,\n",
       "        3.11518809e+03,  1.81929353e+03,  1.43434429e+03,  1.33422578e+03,\n",
       "        1.35666958e+03,  1.57131556e+03,  1.67030632e+03,  1.68365180e+03,\n",
       "        1.62250520e+03,  1.36686057e+03,  1.42119162e+03,  1.45399629e+03,\n",
       "        1.49255414e+03,  1.35235627e+03,  1.40191131e+03,  1.46483930e+03,\n",
       "        1.41823529e+03,  1.49414352e+03,  1.43944089e+03,  1.45325482e+03,\n",
       "        1.41156639e+03,  1.40692074e+03,  1.42056611e+03,  1.32136837e+03,\n",
       "        1.39638612e+03,  1.37541737e+03,  1.38246554e+03,  1.42579011e+03,\n",
       "        1.61382068e+03,  1.58648274e+03,  1.58635122e+03,  1.50286259e+03,\n",
       "        1.55524891e+03,  1.47100335e+03,  1.45825901e+03,  1.43967910e+03,\n",
       "        1.43074782e+03,  1.39803048e+03,  1.43406150e+03,  1.38523337e+03,\n",
       "        1.29229278e+03,  1.48089398e+03,  1.42704672e+03,  1.25120769e+03,\n",
       "        1.35791651e+03,  1.28201745e+03,  1.42349906e+03,  1.35443093e+03,\n",
       "        1.28214093e+03,  1.40405236e+03,  1.34238407e+03,  1.31782816e+03,\n",
       "        1.27385740e+03,  1.22207570e+03,  1.21426594e+03,  1.25159802e+03,\n",
       "        1.11041328e+03,  1.25122021e+03,  1.30240885e+03,  1.26641274e+03,\n",
       "        1.19731981e+03,  1.23141199e+03,  1.21933556e+03,  1.30644451e+03,\n",
       "        1.08581920e+03,  1.32865919e+03,  1.32409667e+03,  1.24857731e+03,\n",
       "        1.17124146e+03,  1.16984298e+03,  1.16928915e+03,  1.20219619e+03,\n",
       "        1.13861386e+03,  1.18032668e+03,  1.23027118e+03,  1.14222229e+03,\n",
       "        9.94425217e+02,  8.47131487e+02,  8.24709433e+02,  1.27351468e+03,\n",
       "        1.10792342e+03,  1.06502641e+03,  1.14036311e+03,  8.89728773e+02,\n",
       "        1.11154322e+03,  1.10179123e+03,  9.64756309e+02,  5.42420586e+02,\n",
       "        6.95029023e+02,  6.33833244e+02,  7.14943448e+02,  6.53614388e+02,\n",
       "        8.35231768e+02,  5.85821631e+02,  7.48144483e+02,  8.15963652e+02,\n",
       "        8.16002649e+02,  8.96862244e+02,  9.71254139e+02,  9.20983963e+02,\n",
       "        5.92760366e+02,  6.31885989e+02,  7.98612896e+02,  5.86068617e+02,\n",
       "        6.46130476e+02,  1.03165954e+03,  9.34083031e+02,  9.22800320e+02,\n",
       "        9.14357296e+02,  9.31876645e+02,  9.25720617e+02,  7.16087049e+02,\n",
       "        5.04297116e+02,  1.02918007e+03,  1.00651631e+03,  5.82243327e+02,\n",
       "        3.59785351e+02,  5.17554103e+02,  4.86878904e+02,  4.69452900e+02,\n",
       "        9.63207537e+02,  1.04369100e+03,  1.11267007e+03,  1.00491195e+03,\n",
       "        1.03513404e+03,  1.02349967e+03,  1.02075470e+03,  9.07825341e+02,\n",
       "        9.95166036e+02,  9.14579284e+02,  4.37397516e+02,  4.72759489e+02,\n",
       "        9.99944205e+02,  8.66885477e+02,  9.74473150e+02,  8.37055348e+02,\n",
       "        9.91012086e+02,  3.15824981e+02,  4.45478506e+02,  4.46527291e+02,\n",
       "        3.59812736e+02,  5.10963381e+02,  3.67388396e+02,  3.91671797e+02,\n",
       "        4.12978004e+02,  4.75027823e+02,  2.98892152e+02,  3.00646139e+02,\n",
       "        3.18696830e+02,  2.46918989e+02,  2.82233475e+02,  2.14942285e+02,\n",
       "        5.58210637e+02,  3.02130355e+02,  2.82743269e+02,  2.14636719e+02,\n",
       "        2.13463773e+02,  9.61781301e+01,  1.25535778e+02,  1.34243418e+02,\n",
       "        1.33691922e+02,  1.82318434e+02,  1.93173843e+02,  2.18302440e+02,\n",
       "        2.61799167e+02,  2.35171976e+02,  1.69940479e+02,  8.25290097e+01,\n",
       "        1.47516532e+02,  7.95609008e+01,  6.87481777e+01,  2.64839550e+01,\n",
       "        1.02471392e+02, -1.84749623e+01,  5.72799177e+01,  8.08715151e+01,\n",
       "        4.71514278e+01,  3.52915560e+01,  4.74083644e+01,  2.88682151e+01,\n",
       "       -1.06636050e+01, -4.99287470e+00,  2.19347154e+01,  5.68690947e+01,\n",
       "        5.15188253e+01,  8.28513049e+00,  2.28782962e+01,  8.42855982e+00,\n",
       "       -1.29134931e-01, -1.74318577e-01, -2.25021356e-01])"
      ]
     },
     "execution_count": 44,
     "metadata": {},
     "output_type": "execute_result"
    },
    {
     "name": "stderr",
     "output_type": "stream",
     "text": [
      "C:\\Users\\xinyan\\Miniconda3\\lib\\site-packages\\gevent\\hub.py:154: UserWarning: libuv only supports millisecond timer resolution; all times less will be set to 1 ms\n",
      "  with loop.timer(seconds, ref=ref) as t:\n"
     ]
    }
   ],
   "source": [
    "vib_mm"
   ]
  },
  {
   "cell_type": "code",
   "execution_count": null,
   "metadata": {},
   "outputs": [],
   "source": []
  }
 ],
 "metadata": {
  "kernelspec": {
   "display_name": "Python 3",
   "language": "python",
   "name": "python3"
  },
  "language_info": {
   "codemirror_mode": {
    "name": "ipython",
    "version": 3
   },
   "file_extension": ".py",
   "mimetype": "text/x-python",
   "name": "python",
   "nbconvert_exporter": "python",
   "pygments_lexer": "ipython3",
   "version": "3.6.3"
  }
 },
 "nbformat": 4,
 "nbformat_minor": 2
}
